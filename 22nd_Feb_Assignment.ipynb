{
 "cells": [
  {
   "cell_type": "markdown",
   "id": "e386a5e0-c9bb-45c0-92f6-2f5c51513430",
   "metadata": {},
   "source": [
    "# <Center> 22nd Feb Assignment"
   ]
  },
  {
   "cell_type": "markdown",
   "id": "1f948cf0-4fba-4259-8dd8-e55671a3c942",
   "metadata": {},
   "source": [
    "# Q1:-  Create a Pandas Series that contains the following data: 4, 8, 15, 16, 23, and 42. Then, print the series."
   ]
  },
  {
   "cell_type": "code",
   "execution_count": 2,
   "id": "58a0a7a9-e0cf-4dcc-8727-8e2495ecb96c",
   "metadata": {},
   "outputs": [
    {
     "name": "stdout",
     "output_type": "stream",
     "text": [
      "0     4\n",
      "1     8\n",
      "2    15\n",
      "3    16\n",
      "4    23\n",
      "5    42\n",
      "dtype: int64\n"
     ]
    }
   ],
   "source": [
    "import pandas as pd\n",
    "data = [4,8,15,16,23,42]\n",
    "series = pd.Series(data)\n",
    "print(series)"
   ]
  },
  {
   "cell_type": "markdown",
   "id": "82090997-d447-4998-9325-36993c599d1c",
   "metadata": {},
   "source": [
    "# Q2:-  Create a variable of list type containing 10 elements in it, and apply pandas.Series function on the variable print it."
   ]
  },
  {
   "cell_type": "code",
   "execution_count": 3,
   "id": "b08fc89b-95ff-4f04-88a6-942d654cac7f",
   "metadata": {},
   "outputs": [
    {
     "name": "stdout",
     "output_type": "stream",
     "text": [
      "0     1\n",
      "1     2\n",
      "2     3\n",
      "3     4\n",
      "4     5\n",
      "5     6\n",
      "6     7\n",
      "7     8\n",
      "8     9\n",
      "9    10\n",
      "dtype: int64\n"
     ]
    }
   ],
   "source": [
    "import pandas as pd\n",
    "\n",
    "my_list = [1, 2, 3, 4, 5, 6, 7, 8, 9, 10]\n",
    "my_series = pd.Series(my_list)\n",
    "print(my_series)"
   ]
  },
  {
   "attachments": {
    "97113392-6ca6-40b8-b1f0-da49b62cc186.png": {
     "image/png": "[encoded data removed]"
    }
   },
   "cell_type": "markdown",
   "id": "860d9012-c02e-43e9-9d27-edba5e575d45",
   "metadata": {},
   "source": [
    "# Q3:- Create a Pandas DataFrame that contains the following data:\n",
    "\n",
    "![image.png](attachment:97113392-6ca6-40b8-b1f0-da49b62cc186.png)\n",
    "\n",
    "Then, print the DataFrame."
   ]
  },
  {
   "cell_type": "code",
   "execution_count": 17,
   "id": "2814f8a5-7166-429f-8ed7-d85836047702",
   "metadata": {},
   "outputs": [
    {
     "name": "stdout",
     "output_type": "stream",
     "text": [
      "     Name  Age  Gender\n",
      "0   Alice   25  Female\n",
      "1     Bob   30    Male\n",
      "2  Claire   37  Female\n"
     ]
    }
   ],
   "source": [
    "import pandas as pd \n",
    "\n",
    "data1= {\"Name\" : [\"Alice\",\"Bob\",\"Claire\"],\n",
    "         \"Age\" : [25,30,37],\n",
    "          \"Gender\" : [\"Female\",\"Male\",\"Female\"]}\n",
    "          \n",
    "df1=pd.DataFrame(data1)\n",
    "\n",
    "print(df1)\n",
    "          "
   ]
  },
  {
   "cell_type": "markdown",
   "id": "d1a25f33-d094-43ea-b56b-60eee269d024",
   "metadata": {},
   "source": [
    "# Q4:-  What is ‘DataFrame’ in pandas and how is it different from pandas.series? Explain with an example."
   ]
  },
  {
   "cell_type": "markdown",
   "id": "32ef37ce-cb80-4a8a-b68a-9e413370bea7",
   "metadata": {},
   "source": [
    "Ans 4:- DataFrame is a two-dimensional labeled data structure in Pandas, which is commonly used to store and manipulate data in tabular form. It is similar to a spreadsheet or a SQL table, where data is organized in rows and columns, and each column can have a different data type.\n",
    "\n",
    "On the other hand, a pandas series is a one-dimensional labeled array that can store data of any type (e.g., integers, floats, strings, etc.) and has an index, which can be customized or automatically generated.\n",
    "\n",
    "The main difference between a Series and a DataFrame is that a Series represents a single column of data, while a DataFrame represents multiple columns of data, arranged in a tabular format.\n",
    "\n",
    "Here's an example to illustrate the difference between a Series and a DataFrame:"
   ]
  },
  {
   "cell_type": "code",
   "execution_count": 19,
   "id": "28edeb3a-a717-405a-9767-3e632e6f58cc",
   "metadata": {},
   "outputs": [
    {
     "name": "stdout",
     "output_type": "stream",
     "text": [
      "Pandas Series:\n",
      " 0    10\n",
      "1    20\n",
      "2    30\n",
      "3    40\n",
      "4    50\n",
      "dtype: int64\n",
      "\n",
      "Pandas DataFrame:\n",
      "     Name  Age  Salary\n",
      "0   John   25   50000\n",
      "1  Marry   30   60000\n",
      "2  Peter   35   70000\n",
      "3   Mike   40   80000\n",
      "4  Alice   45   90000\n"
     ]
    }
   ],
   "source": [
    "import pandas as pd\n",
    "\n",
    "# Creating a Pandas Series\n",
    "my_series = pd.Series([10, 20, 30, 40, 50])\n",
    "\n",
    "# Creating a Pandas DataFrame\n",
    "my_dataframe = pd.DataFrame({\n",
    "    'Name': ['John', 'Marry', 'Peter', 'Mike', 'Alice'],\n",
    "    'Age': [25, 30, 35, 40, 45],\n",
    "    'Salary': [50000, 60000, 70000, 80000, 90000]\n",
    "})\n",
    "\n",
    "# Printing the Series and DataFrame\n",
    "print(\"Pandas Series:\\n\", my_series)\n",
    "print(\"\\nPandas DataFrame:\\n\", my_dataframe)"
   ]
  },
  {
   "cell_type": "markdown",
   "id": "acdcd86b-e11f-48ee-9fa5-547183eee450",
   "metadata": {},
   "source": [
    "# Q5:- What are some common functions you can use to manipulate data in a Pandas DataFrame? Can you give an example of when you might use one of these functions?"
   ]
  },
  {
   "cell_type": "markdown",
   "id": "749af831-2220-4925-a002-5d439d75036d",
   "metadata": {},
   "source": [
    "Ans 5:- Some of the common functions you can use to manipulate data in a Pandas DataFrame are:\n",
    "\n",
    "* head() - Returns the first n rows of a DataFrame. This is useful to quickly check the data in your DataFrame without scrolling through the entire thing.\n",
    "Example: df.head() returns the first 5 rows of the DataFrame df.\n",
    "\n",
    "* describe() - Generates descriptive statistics of the DataFrame. This is useful when we want to get a sense of the range of values in each column, the mean, standard deviation, and other summary statistics.\n",
    "Example: df.describe() generates summary statistics of the DataFrame df.\n",
    "\n",
    "* groupby() - Groups the data in the DataFrame based on one or more columns. This is useful when we want to perform calculations or analysis on subsets of the data.\n",
    "Example: df.groupby('column_name').mean() groups the data in the DataFrame df by the values in the column named 'column_name' and calculates the mean of each group.\n",
    "\n",
    "* sort_values() - Sorts the data in the DataFrame based on one or more columns. This is useful when we want to order the data in a specific way.\n",
    "Example: df.sort_values('column_name', ascending=False) sorts the data in the DataFrame df by the values in the column named 'column_name' in descending order.\n",
    "\n",
    "* drop() - Removes rows or columns from the DataFrame. This is useful when we want to exclude certain data from your analysis.\n",
    "Example: df.drop('column_name', axis=1) removes the column named 'column_name' from the DataFrame df.\n",
    "\n",
    "These are just a few of the many functions available in Pandas for manipulating data in a DataFrame. The choice of which function to use depends on the specific task at hand."
   ]
  },
  {
   "cell_type": "code",
   "execution_count": 22,
   "id": "212025d3-1d6d-4a02-bd3e-97c53eba34d2",
   "metadata": {},
   "outputs": [
    {
     "name": "stdout",
     "output_type": "stream",
     "text": [
      "             Age        Salary\n",
      "count   5.000000      5.000000\n",
      "mean   35.000000  70000.000000\n",
      "std     7.905694  15811.388301\n",
      "min    25.000000  50000.000000\n",
      "25%    30.000000  60000.000000\n",
      "50%    35.000000  70000.000000\n",
      "75%    40.000000  80000.000000\n",
      "max    45.000000  90000.000000\n"
     ]
    }
   ],
   "source": [
    "import pandas as pd\n",
    "\n",
    "# Creating a sample DataFrame\n",
    "employee_data = {\n",
    "    'Name': ['John', 'Jane', 'Bob', 'Alice', 'Mike'],\n",
    "    'Age': [25, 30, 35, 40, 45],\n",
    "    'Salary': [50000, 60000, 70000, 80000, 90000]\n",
    "}\n",
    "df = pd.DataFrame(employee_data)\n",
    "\n",
    "# Using the describe() function to view the statistical summary of the dataframe and it default provide the describsion of int and float column i.e Age and Salary\n",
    "print(df.describe())"
   ]
  },
  {
   "cell_type": "markdown",
   "id": "5c5c5898-e4dc-4666-8adc-7a9688419535",
   "metadata": {},
   "source": [
    " # Q6:- Which of the following is mutable in nature Series, DataFrame, Panel?"
   ]
  },
  {
   "cell_type": "markdown",
   "id": "cebeb257-dfa5-452f-8023-5fbb017a2733",
   "metadata": {},
   "source": [
    "Ans 6:- A mutable object is one that can be changed after it has been created. In Python, mutable objects are those that allow modification of their contents, while immutable objects cannot be changed once created.\n",
    "\n",
    "Series and DataFrame are mutable objects in Pandas because their values can be modified after they have been created. For example, you can add or delete rows or columns from a DataFrame or change the values in a Series. This means that you can change the contents of a Series or DataFrame after they have been created.\n",
    "\n",
    "On the other hand, Panel is not mutable in nature. It is a three-dimensional data structure in Pandas that is used to represent data with multiple variables across multiple axes. Once a Panel object is created, its values cannot be changed. If you want to modify the contents of a Panel, you would need to create a new Panel object with the updated values.\n",
    "\n",
    "Hence, Series and DataFrame are mutable in nature, while Panel is not."
   ]
  },
  {
   "cell_type": "markdown",
   "id": "7710c411-5ecd-42fa-9830-b3a632159319",
   "metadata": {},
   "source": [
    "# Q7:- Create a DataFrame using multiple Series. Explain with an example."
   ]
  },
  {
   "cell_type": "code",
   "execution_count": 29,
   "id": "2f1db2a3-c1e6-47a9-a813-f6eeff7c40b5",
   "metadata": {},
   "outputs": [
    {
     "name": "stdout",
     "output_type": "stream",
     "text": [
      "     Name  Age     City\n",
      "0    Amit   30   Mumbai\n",
      "1   Akash   31    Delhi\n",
      "2  Gaurav   45  lucknow\n"
     ]
    }
   ],
   "source": [
    "import pandas as pd\n",
    "\n",
    "Name = pd.Series([\"Amit\", \"Akash\", \"Gaurav\"])\n",
    "Age = pd.Series([30,31,45])\n",
    "City = pd.Series([\"Mumbai\", \"Delhi\",\"lucknow\"])\n",
    "\n",
    "df= pd.DataFrame ( {'Name' : Name, 'Age' : Age, 'City' : City})\n",
    "\n",
    "print(df)"
   ]
  },
  {
   "cell_type": "markdown",
   "id": "db5f3c48-6c10-42ea-a826-96e786eb45dc",
   "metadata": {},
   "source": [
    "# <Center> End of Assignmnet"
   ]
  },
  {
   "cell_type": "code",
   "execution_count": null,
   "id": "cd092b77-0c0c-453b-9d36-bba070b91eec",
   "metadata": {},
   "outputs": [],
   "source": []
  }
 ],
 "metadata": {
  "kernelspec": {
   "display_name": "Python 3 (ipykernel)",
   "language": "python",
   "name": "python3"
  },
  "language_info": {
   "codemirror_mode": {
    "name": "ipython",
    "version": 3
   },
   "file_extension": ".py",
   "mimetype": "text/x-python",
   "name": "python",
   "nbconvert_exporter": "python",
   "pygments_lexer": "ipython3",
   "version": "3.10.8"
  }
 },
 "nbformat": 4,
 "nbformat_minor": 5
}
